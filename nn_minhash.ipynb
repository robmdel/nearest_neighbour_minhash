{
 "cells": [
  {
   "cell_type": "markdown",
   "metadata": {},
   "source": [
    "# Finding nearest neighbours using min-hashing\n",
    "\n",
    "In this notebook, I apply min-hashing to solve the nearest neighbours' problem on Amazon reviews. \n",
    "\n",
    "\n",
    "## Dataset(s)\n",
    "The data is a ```.json``` file. Each line describes a review and has the following format:\n",
    "\n",
    "```\n",
    "{\"reviewerID\": \"A14CK12J7C7JRK\", \"asin\": \"1223000893\", \"reviewerName\": \"Consumer in NorCal\", \"helpful\": [0, 0], \"reviewText\": \"I purchased the Trilogy with hoping my two cats, age 3 and 5 would be interested.  The 3 yr old cat was fascinated for about 15 minutes but when the same pictures came on, she got bored.  The 5 year old watched for about a few minutes but then walked away. It is possible that because we have a wonderful courtyard full of greenery and trees and one of my neighbors has a bird feeder, that there is enough going on outside that they prefer real life versus a taped version.  I will more than likely pass this on to a friend who has cats that don't have as much wildlife to watch as mine do.\", \"overall\": 3.0, \"summary\": \"Nice Distraction for my cats for about 15 minutes\", \"unixReviewTime\": 1294790400, \"reviewTime\": \"01 12, 2011\"}\n",
    "```\n",
    "## Analysis goal\n",
    "To the purpose of this analysis, we view each user as the set of items s/he reviewed. Given a user u, we are interested in all users, whose baskets (i.e., the sets of items they purchased) have Jaccard similarities with u's that exceed a given threshold $\\theta$. The right value for $\\theta$ is something that is normally the result of a separate analysis."
   ]
  },
  {
   "cell_type": "markdown",
   "metadata": {},
   "source": [
    "## First experiment\n",
    "The first experiment concerns the accuracy and efficiency of min-hashing to the purpose of achieving the goal above. To this purpose, we first divide our dataset into a training and a test set. To begin with, we use the following simple criterion. Given the source ```.json``` file, we produce two files ```train.json``` and ```test.json``` as follows: we remove all reviews of the first ```n_test``` users and store them to ```test.json```. The remaining reviews (possibly the vast majority) are stored to ```train.json```. In this example we chose ```n_test = 100```.\n",
    "\n",
    "We then build an LSH table associated to all users in the training set following the standard approach, as is implemented in the ```datasketch``` package, in particular by the ```MinHash``` and ```MinHashLSH``` classes.\n",
    "\n",
    "Next, for each user in the test, we identify all users whose true (using exhaustive search) or estimated (using min-hashing) Jaccard similarity is above the desired threshold $\\theta$. For each user, we keep track of i) times to compute neighbourhood for exact and approximate method, ii) precision, iii) recall.\n",
    "\n",
    "Finally, we compute average speed-up, precision and recall over the ```n_test``` users considered."
   ]
  },
  {
   "cell_type": "markdown",
   "metadata": {},
   "source": [
    "We first import the necessary libraries and define a function for exact Jaccard similarity computation. We also define the value of $\\theta$ here."
   ]
  },
  {
   "cell_type": "code",
   "execution_count": 7,
   "metadata": {},
   "outputs": [],
   "source": [
    "# Imports: needed only once\n",
    "import json\n",
    "import time\n",
    "import random\n",
    "import numpy as np\n",
    "import matplotlib.pyplot as plt\n",
    "import pylab as pl\n",
    "import matplotlib.pyplot as plt\n",
    "from tqdm import tqdm\n",
    "from sklearn.metrics import precision_recall_curve\n",
    "from datasketch import MinHash, MinHashLSH\n",
    "from nltk.metrics.scores import (precision, recall)\n",
    "\n",
    "## a and b are sets\n",
    "def jaccard(a, b):\n",
    "    c = a.intersection(b)\n",
    "    return float(len(c)) / (len(a) + len(b) - len(c))"
   ]
  },
  {
   "cell_type": "markdown",
   "metadata": {},
   "source": [
    "The following block creates 5 different couples of the kind *(train_set, test_set)* that will be used for a 5-fold validation."
   ]
  },
  {
   "cell_type": "code",
   "execution_count": 8,
   "metadata": {},
   "outputs": [],
   "source": [
    "\n",
    "data = \"./data/data.json\"\n",
    "train = \"./data/train\"\n",
    "test = \"./data/test\"\n",
    "n_test = 100\n",
    "\n",
    "\n",
    "for i in range(5):\n",
    "    f_in = open(data, \"r\") ## Original data file\n",
    "    f_train = open(train+str(i)+\".json\", \"w\") ## Training set\n",
    "    f_test = open(test+str(i)+\".json\", \"w\") ## Test set\n",
    "\n",
    "    ## We collect first 100 Reviewers and store their ids\n",
    "    test_list = [] ## This contains first n_test reviewers' ids\n",
    "\n",
    "    # CHANGE: randomly choose 100 entries between the lines of f_in (5 times)\n",
    "    lines = f_in.readlines()\n",
    "\n",
    "    while(len(test_list) < n_test):\n",
    "        t_line = random.choice(lines)\n",
    "        jrecord = json.loads(t_line)\n",
    "        if jrecord[\"reviewerID\"] not in test_list:\n",
    "            test_list.append(jrecord[\"reviewerID\"])\n",
    "\n",
    "\n",
    "    ## We next scan the whole data file and produce the training and test files\n",
    "    ## We remove all reviews for test users from original dataset\n",
    "    f_in.seek(0)\n",
    "    for line in f_in:\n",
    "        jrecord = json.loads(line)\n",
    "        if jrecord[\"reviewerID\"] in test_list:\n",
    "            f_test.write(line)\n",
    "        else:\n",
    "            f_train.write(line)\n",
    "\n",
    "f_in.close()\n",
    "f_train.close()\n",
    "f_test.close()"
   ]
  },
  {
   "cell_type": "markdown",
   "metadata": {},
   "source": [
    "We build a list of dictionaries where the entry *i* is a dictionary of users in the *i-th* training set. Each user is the set of product ids s/he reviewed"
   ]
  },
  {
   "cell_type": "code",
   "execution_count": null,
   "metadata": {},
   "outputs": [],
   "source": [
    "train_dictionaries = []\n",
    "\n",
    "for i in range (5):\n",
    "    f_train = open(\"./data/train\" + str(i) + \".json\")\n",
    "    train_dict = {}\n",
    "    for line in f_train:\n",
    "        jrecord = json.loads(line)\n",
    "        uid = jrecord[\"reviewerID\"]\n",
    "        if uid in train_dict:\n",
    "            train_dict[uid].add(jrecord[\"asin\"])\n",
    "        else:\n",
    "            train_dict[uid] = {jrecord[\"asin\"]}\n",
    "    train_dictionaries.append(train_dict)\n",
    "    \n",
    "f_train.close()\n",
    "\n",
    "#the list train_dictionaries contains 5 different dictionaries; one for every train_set"
   ]
  },
  {
   "cell_type": "markdown",
   "metadata": {},
   "source": [
    "We do the same for a list of the dictionaries for the test sets."
   ]
  },
  {
   "cell_type": "code",
   "execution_count": null,
   "metadata": {},
   "outputs": [],
   "source": [
    "test_dictionaries = []\n",
    "\n",
    "for i in range(5):\n",
    "    f_test = open(\"./data/test\" + str(i) + \".json\")\n",
    "    test_dict = {}\n",
    "    for line in f_test:\n",
    "        jrecord = json.loads(line)\n",
    "        uid = jrecord[\"reviewerID\"]\n",
    "        if uid in train_dictionaries[i]:\n",
    "            test_dict[uid].add(jrecord[\"asin\"])\n",
    "        else:\n",
    "            test_dict[uid] = {jrecord[\"asin\"]}\n",
    "    test_dictionaries.append(test_dict)\n",
    "\n",
    "f_test.close()\n",
    "\n",
    "#the list test_dictionaries contains 5 different dictionaries; one for every test_set"
   ]
  },
  {
   "cell_type": "code",
   "execution_count": 44,
   "metadata": {},
   "outputs": [
    {
     "name": "stderr",
     "output_type": "stream",
     "text": [
      "\n",
      "  0%|          | 0/11 [00:00<?, ?it/s]\u001b[A\n",
      "100%|██████████| 11/11 [19:51<00:00, 108.36s/it]"
     ]
    },
    {
     "name": "stdout",
     "output_type": "stream",
     "text": [
      "Precision list:  [0.8655891835526256, 0.8928966403228312, 0.868334342418086, 0.8334260490528644, 0.9044546450139169, 0.8348489725015508, 0.8348489725015508, 0.7719212889393201, 0.6804671098587072, 0.6880831555715045, 0.5683502855790241]\n",
      "Recall list:  [0.8826124352381253, 0.9543664647762921, 0.94187208954906, 0.9355171459463938, 0.7474498542856665, 0.7979685586199194, 0.7979685586199194, 0.8237131282332101, 0.8497840817146327, 0.8235646586803499, 0.8229425847457617]\n",
      "Theta list:  [0.05 0.06 0.07 0.08 0.09 0.1  0.11 0.12 0.13 0.14 0.15]\n"
     ]
    },
    {
     "name": "stderr",
     "output_type": "stream",
     "text": [
      "\n"
     ]
    }
   ],
   "source": [
    "theta = pl.frange(0.05,0.15,0.01)\n",
    "\n",
    "#tot_prec and tot_rec will contain all the 16 precision and recall values computed for every theta\n",
    "#as the average of a 5-fold validation\n",
    "\n",
    "tot_prec = []\n",
    "tot_rec = []\n",
    "prec_list = []\n",
    "rec_list = []\n",
    "\n",
    "#iterator over all the values of theta\n",
    "for i in tqdm(theta):\n",
    "        \n",
    "    tot_prec.append(0)\n",
    "    tot_rec.append(0)\n",
    "      \n",
    "    #iterator for the 5-fold validation\n",
    "    for k in range(5):\n",
    "           \n",
    "        #lsh: data structure which supports the query for a given minhash\n",
    "        lsh = MinHashLSH(threshold=i, num_perm=128)\n",
    "        \n",
    "        for uid in train_dictionaries[k]:\n",
    "            m = MinHash(num_perm=128)\n",
    "            for pid in train_dictionaries[k][uid]:\n",
    "                m.update(pid.encode('utf8'))\n",
    "            lsh.insert(uid, m)\n",
    "                \n",
    "        #lsh is the LSH data structure for the k-th training set\n",
    "        \n",
    "                      \n",
    "        apx_neighbors = {}\n",
    "        exact_neighbors = {}\n",
    "        \n",
    "        for uid in test_dictionaries[k]:\n",
    "            m = MinHash(num_perm=128)\n",
    "            for pid in test_dictionaries[k][uid]:\n",
    "                m.update(pid.encode('utf8'))\n",
    "            #for the user uid compute all the users of the training set whose signature has\n",
    "            #a similarity >theta (approximated neighbors)\n",
    "            apx_neighbors[uid] = lsh.query(m)\n",
    "            exact_neighbors[uid] = []\n",
    "            for other in train_dictionaries[k]:\n",
    "                if jaccard(test_dictionaries[k][uid], train_dictionaries[k][other]) > i:\n",
    "                    #add all the true neighbors according to the theta threshold value\n",
    "                    exact_neighbors[uid].append(other)\n",
    "                    \n",
    "                    \n",
    "        prec_list.append(0)\n",
    "        cp = 0\n",
    "        rec_list.append(0)\n",
    "        cr = 0\n",
    "\n",
    "        for uid in test_dictionaries[k]:\n",
    "            p = precision(set(exact_neighbors[uid]), set(apx_neighbors[uid]))\n",
    "            if p != None:\n",
    "                cp += 1\n",
    "                prec_list[-1] += p\n",
    "            r = recall(set(exact_neighbors[uid]), set(apx_neighbors[uid]))\n",
    "            if r != None:\n",
    "                cr += 1\n",
    "                rec_list[-1] += r\n",
    "        \n",
    "        #the following lists contain prec and rec average value for each of the 5 test/train set\n",
    "        prec_list[-1] = prec_list[-1]/cp\n",
    "        rec_list[-1] = rec_list[-1]/cr\n",
    "      \n",
    "    #tot_prec and tot_rec contain the 16 average values obtained by the 5-fold validation\n",
    "    tot_prec[-1] = np.mean(prec_list)\n",
    "    tot_rec[-1] = np.mean(rec_list)\n",
    "    prec_list = []\n",
    "    rec_list = []\n",
    "    \n",
    "\n",
    "# here we should have the three lists prec, rec and theta\n",
    "print(\"Precision list: \", tot_prec)\n",
    "print(\"Recall list: \", tot_rec)\n",
    "print(\"Theta list: \", theta)"
   ]
  },
  {
   "cell_type": "markdown",
   "metadata": {},
   "source": [
    "We finally plot the curves for precision and recall."
   ]
  },
  {
   "cell_type": "code",
   "execution_count": 45,
   "metadata": {},
   "outputs": [
    {
     "data": {
      "image/png": "[encoded data removed]",
      "text/plain": [
       "<matplotlib.figure.Figure at 0x1a2e8f9630>"
      ]
     },
     "metadata": {},
     "output_type": "display_data"
    }
   ],
   "source": [
    "plt.figure(figsize=(8,6))\n",
    "plt.plot(theta,tot_prec, label=\"precision\")\n",
    "plt.plot(theta,tot_rec, label=\"recall\")\n",
    "leg = plt.legend()\n",
    "\n",
    "\n",
    "plt.show()"
   ]
  }
 ],
 "metadata": {
  "kernelspec": {
   "display_name": "Python 3",
   "language": "python",
   "name": "python3"
  },
  "language_info": {
   "codemirror_mode": {
    "name": "ipython",
    "version": 3
   },
   "file_extension": ".py",
   "mimetype": "text/x-python",
   "name": "python",
   "nbconvert_exporter": "python",
   "pygments_lexer": "ipython3",
   "version": "3.6.4"
  }
 },
 "nbformat": 4,
 "nbformat_minor": 2
}
